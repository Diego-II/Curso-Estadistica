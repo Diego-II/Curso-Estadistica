{
 "cells": [
  {
   "cell_type": "markdown",
   "metadata": {},
   "source": [
    "## Ejemplo CI Gaussiano"
   ]
  },
  {
   "cell_type": "code",
   "execution_count": 21,
   "metadata": {},
   "outputs": [
    {
     "name": "stdout",
     "output_type": "stream",
     "text": [
      "los límies del CI de 95% para la normal con media 0 y varianza 1 son: (-1.959963984540054, 1.959963984540054)\n"
     ]
    },
    {
     "data": {
      "text/plain": [
       "Text(0.5, 1.0, 'Intervalo de confianza del 95%: Caso Gaussiano con 2000 muestras')"
      ]
     },
     "execution_count": 21,
     "metadata": {},
     "output_type": "execute_result"
    },
    {
     "data": {
      "image/png": "[encoded data removed]",
      "text/plain": [
       "<Figure size 432x288 with 1 Axes>"
      ]
     },
     "metadata": {
      "needs_background": "light"
     },
     "output_type": "display_data"
    }
   ],
   "source": [
    "import numpy as np\n",
    "import statsmodels.stats.api as sms\n",
    "import matplotlib.pyplot as plt\n",
    "import scipy\n",
    "\n",
    "s = np.random.seed(100)\n",
    "s= np.random.normal(0,1,2000)\n",
    "\n",
    "plt.figure()\n",
    "_ = plt.hist(s,  bins=100)\n",
    "\n",
    "sigma=1\n",
    "mean=0\n",
    "ci = scipy.stats.norm.interval(0.95, loc=mean, scale=sigma)\n",
    "print(f'los límies del CI de 95% para la normal con media {mean} y varianza {sigma**2} son: {ci}')\n",
    "\n",
    "# cnfidence interval left line\n",
    "one_x12, one_y12 = [ci[0],ci[0]], [0, 20]\n",
    "# cnfidence interval right line\n",
    "two_x12, two_y12 = [ci[1],ci[1]], [0, 20]\n",
    "\n",
    "plt.plot(one_x12, one_y12, two_x12, two_y12, marker = 'o');\n",
    "plt.title('Intervalo de confianza del 95%: Caso Gaussiano con 2000 muestras')\n",
    "plt.show()"
   ]
  },
  {
   "cell_type": "code",
   "execution_count": null,
   "metadata": {},
   "outputs": [],
   "source": [
    "print()"
   ]
  }
 ],
 "metadata": {
  "kernelspec": {
   "display_name": "Python 3",
   "language": "python",
   "name": "python3"
  },
  "language_info": {
   "codemirror_mode": {
    "name": "ipython",
    "version": 3
   },
   "file_extension": ".py",
   "mimetype": "text/x-python",
   "name": "python",
   "nbconvert_exporter": "python",
   "pygments_lexer": "ipython3",
   "version": "3.7.3"
  }
 },
 "nbformat": 4,
 "nbformat_minor": 2
}
